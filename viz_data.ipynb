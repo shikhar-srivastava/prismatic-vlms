{
 "cells": [
  {
   "cell_type": "code",
   "execution_count": null,
   "metadata": {},
   "outputs": [],
   "source": [
    "import ijson\n",
    "import matplotlib.pyplot as plt\n",
    "from PIL import Image\n",
    "import os\n",
    "import textwrap\n",
    "\n",
    "# Function to load an image from a file path\n",
    "def load_image(image_id):\n",
    "    path = f'/scratch/ssrivas9/MultiModalCL/dataset/cc_sbu_align/image/{image_id}.jpg'\n",
    "    try:\n",
    "        img = Image.open(path)\n",
    "        # Optionally, resize image to make the grid more uniform\n",
    "        img = img.resize((100*2, 100*2))\n",
    "        return img\n",
    "    except Exception as e:\n",
    "        print(f\"Error loading image from {path}: {e}\")\n",
    "        # Return a blank image in case of error\n",
    "        return Image.new('RGB', (100, 100), (255, 255, 255))\n",
    "\n",
    "# Function to wrap text to a specified width\n",
    "def wrap_text(text, width):\n",
    "    return '\\n'.join(textwrap.wrap(text, width=width))\n",
    "\n",
    "# Path to the JSON file\n",
    "json_file_path = '/scratch/ssrivas9/MultiModalCL/dataset/cc_sbu_align/filter_cap.json'\n",
    "\n",
    "N = 3  # Dimension of the grid\n",
    "fig, axs = plt.subplots(N, N, figsize=(20, 20))\n",
    "axs = axs.flatten()  # Flatten the 2D array of axes for easy indexing\n",
    "\n",
    "# Open the JSON file and read annotations in a streaming manner\n",
    "with open(json_file_path, 'r') as file:\n",
    "    annotations = ijson.items(file, 'annotations.item')\n",
    "    \n",
    "    for i, annotation in enumerate(annotations):\n",
    "        if i >= N * N:\n",
    "            break  # Stop after the first N * N items\n",
    "        image_id = annotation['image_id']\n",
    "        caption = annotation['caption']\n",
    "        wrapped_caption = wrap_text(caption, width=40*2)  # Wrap the caption text\n",
    "        img = load_image(image_id)  # Load and resize image from file path\n",
    "\n",
    "        # Plot image\n",
    "        axs[i].imshow(img)\n",
    "        axs[i].axis('off')  # Hide axis\n",
    "        axs[i].set_title(wrapped_caption, fontsize=8, wrap=True)  # Set wrapped caption as title\n",
    "\n",
    "plt.tight_layout()\n",
    "plt.show()\n"
   ]
  }
 ],
 "metadata": {
  "language_info": {
   "name": "python"
  }
 },
 "nbformat": 4,
 "nbformat_minor": 2
}
