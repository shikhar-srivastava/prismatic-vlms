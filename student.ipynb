{
 "cells": [
  {
   "cell_type": "code",
   "execution_count": 1,
   "metadata": {},
   "outputs": [
    {
     "name": "stderr",
     "output_type": "stream",
     "text": [
      "/localdisk/ssrivas9/miniconda3/envs/deploy/lib/python3.10/site-packages/huggingface_hub/file_download.py:1132: FutureWarning: `resume_download` is deprecated and will be removed in version 1.0.0. Downloads always resume when possible. If you want to force a new download, use `force_download=True`.\n",
      "  warnings.warn(\n",
      "Special tokens have been added in the vocabulary, make sure the associated word embeddings are fine-tuned or trained.\n",
      "/localdisk/ssrivas9/miniconda3/envs/deploy/lib/python3.10/site-packages/huggingface_hub/file_download.py:1132: FutureWarning: `resume_download` is deprecated and will be removed in version 1.0.0. Downloads always resume when possible. If you want to force a new download, use `force_download=True`.\n",
      "  warnings.warn(\n"
     ]
    },
    {
     "data": {
      "application/vnd.jupyter.widget-view+json": {
       "model_id": "37420a8b6c5f476399a46af0b915da41",
       "version_major": 2,
       "version_minor": 0
      },
      "text/plain": [
       "Loading checkpoint shards:   0%|          | 0/15 [00:00<?, ?it/s]"
      ]
     },
     "metadata": {},
     "output_type": "display_data"
    },
    {
     "name": "stderr",
     "output_type": "stream",
     "text": [
      "/localdisk/ssrivas9/miniconda3/envs/deploy/lib/python3.10/site-packages/huggingface_hub/file_download.py:1132: FutureWarning: `resume_download` is deprecated and will be removed in version 1.0.0. Downloads always resume when possible. If you want to force a new download, use `force_download=True`.\n",
      "  warnings.warn(\n"
     ]
    }
   ],
   "source": [
    "import torch\n",
    "from PIL import Image\n",
    "from transformers import AutoModelForCausalLM, AutoTokenizer\n",
    "import requests\n",
    "from io import BytesIO\n",
    "\n",
    "device = \"cuda\"\n",
    "\n",
    "tokenizer = AutoTokenizer.from_pretrained(\"THUDM/glm-4v-9b\", trust_remote_code=True)\n",
    "model = AutoModelForCausalLM.from_pretrained(\n",
    "    \"THUDM/glm-4v-9b\",\n",
    "    torch_dtype=torch.bfloat16,\n",
    "    low_cpu_mem_usage=True,\n",
    "    trust_remote_code=True\n",
    ").to(device).eval()\n",
    "gen_kwargs = {\"max_length\": 2500, \"do_sample\": True, \"top_k\": 1}"
   ]
  },
  {
   "cell_type": "code",
   "execution_count": 2,
   "metadata": {
    "notebookRunGroups": {
     "groupValue": "2"
    }
   },
   "outputs": [
    {
     "data": {
      "application/vnd.jupyter.widget-view+json": {
       "model_id": "8ea59beb976b4275a3999c717668ac8b",
       "version_major": 2,
       "version_minor": 0
      },
      "text/plain": [
       "VBox(children=(Textarea(value='What can you tell me about the human pose?', description='Query:', layout=Layou…"
      ]
     },
     "metadata": {},
     "output_type": "display_data"
    },
    {
     "data": {
      "application/vnd.jupyter.widget-view+json": {
       "model_id": "21522bca08b64f55ac757324dc33100d",
       "version_major": 2,
       "version_minor": 0
      },
      "text/plain": [
       "Output(layout=Layout(display='flex', justify_content='center'))"
      ]
     },
     "metadata": {},
     "output_type": "display_data"
    },
    {
     "data": {
      "application/vnd.jupyter.widget-view+json": {
       "model_id": "90fa39443b9a4655b9087321a0bf514b",
       "version_major": 2,
       "version_minor": 0
      },
      "text/plain": [
       "Output(layout=Layout(display='flex', justify_content='center'))"
      ]
     },
     "metadata": {},
     "output_type": "display_data"
    }
   ],
   "source": [
    "import requests\n",
    "from PIL import Image\n",
    "from io import BytesIO\n",
    "import torch\n",
    "import textwrap\n",
    "from IPython.display import display\n",
    "import ipywidgets as widgets\n",
    "import os\n",
    "\n",
    "# Function to pretty print text with specified width\n",
    "def pretty_print(text, width=70):\n",
    "    wrapped_text = textwrap.fill(text, width=width)\n",
    "    text_output_area.append_stdout(wrapped_text + '\\n')\n",
    "\n",
    "# Function to load image from URL or path\n",
    "def load_image(image_path_or_url):\n",
    "    if os.path.isfile(image_path_or_url):\n",
    "        image = Image.open(image_path_or_url).convert('RGB')\n",
    "    else:\n",
    "        response = requests.get(image_path_or_url)\n",
    "        image = Image.open(BytesIO(response.content)).convert('RGB')\n",
    "    return image\n",
    "\n",
    "# Function to process the query and generate a response\n",
    "def process_query(query, image_path_or_url=None):\n",
    "    image_output_area.clear_output()\n",
    "    text_output_area.clear_output()\n",
    "\n",
    "    image = None\n",
    "    if image_path_or_url:\n",
    "        try:\n",
    "            image = load_image(image_path_or_url)\n",
    "            with image_output_area:\n",
    "                display(image)\n",
    "        except Exception as e:\n",
    "            with image_output_area:\n",
    "                display(widgets.HTML(\"<b>Image not found or invalid URL. Displaying query response only.</b>\"))\n",
    "\n",
    "    # Prepare inputs\n",
    "    inputs = tokenizer.apply_chat_template([{\"role\": \"user\", \"image\": image, \"content\": query}],\n",
    "                                           add_generation_prompt=True, tokenize=True, return_tensors=\"pt\",\n",
    "                                           return_dict=True)  # chat mode\n",
    "\n",
    "    inputs = inputs.to(device)\n",
    "    with torch.no_grad():\n",
    "        outputs = model.generate(**inputs, **gen_kwargs)\n",
    "        outputs = outputs[:, inputs['input_ids'].shape[1]:]\n",
    "        output = tokenizer.decode(outputs[0])\n",
    "        # if output ends with , remove it.\n",
    "        if output.endswith(tokenizer.eos_token):\n",
    "            output = output[:-len(tokenizer.eos_token)]\n",
    "\n",
    "    # Pretty print the output within the text output area\n",
    "    with text_output_area:\n",
    "        wrapped_text = textwrap.fill(output, width=70)\n",
    "        display(widgets.HTML(f\"<pre>{wrapped_text}</pre>\"))\n",
    "\n",
    "# Function to display image when URL is updated\n",
    "def display_image(image_path_or_url):\n",
    "    image_output_area.clear_output()\n",
    "    if image_path_or_url:\n",
    "        try:\n",
    "            image = load_image(image_path_or_url)\n",
    "            with image_output_area:\n",
    "                display(image)\n",
    "        except Exception as e:\n",
    "            with image_output_area:\n",
    "                display(widgets.HTML(\"<b>Image not found or invalid URL. Displaying query response only.</b>\"))\n",
    "\n",
    "# Create an input Textarea widget for the query\n",
    "query_input = widgets.Textarea(\n",
    "    value='What can you tell me about the human pose?',\n",
    "    placeholder='Type your query here',\n",
    "    description='Query:',\n",
    "    disabled=False,\n",
    "    layout=widgets.Layout(width='75%')\n",
    ")\n",
    "\n",
    "# Create an input Textarea widget for the image URL or path\n",
    "image_input = widgets.Textarea(\n",
    "    value='https://raw.githubusercontent.com/open-mmlab/mmdeploy/main/demo/resources/human-pose.jpg',\n",
    "    placeholder='Enter image URL or path',\n",
    "    description='Image URL:',\n",
    "    disabled=False,\n",
    "    layout=widgets.Layout(width='50%')\n",
    ")\n",
    "\n",
    "# Create a FileUpload widget for image upload\n",
    "upload_button = widgets.FileUpload(\n",
    "    accept='image/*',  # Accept image files only\n",
    "    multiple=False,  # Single file upload\n",
    "    layout=widgets.Layout(width='25%')\n",
    ")\n",
    "\n",
    "# Create a button widget to submit the query\n",
    "submit_button = widgets.Button(description=\"Submit\", layout=widgets.Layout(width='75%'))\n",
    "\n",
    "# Create separate output areas to display image and text results\n",
    "image_output_area = widgets.Output(layout=widgets.Layout(display='flex', justify_content='center'))\n",
    "text_output_area = widgets.Output(layout=widgets.Layout(display='flex', justify_content='center'))\n",
    "\n",
    "# Define the button click event handler for query submission\n",
    "def on_button_click(b):\n",
    "    query = query_input.value\n",
    "    image_path_or_url = image_input.value.strip()\n",
    "    process_query(query, image_path_or_url)\n",
    "\n",
    "# Define the handler for image URL input change\n",
    "def on_image_url_change(change):\n",
    "    image_path_or_url = change['new'].strip()\n",
    "    display_image(image_path_or_url)\n",
    "\n",
    "# Define the handler for file upload\n",
    "def on_file_upload(change):\n",
    "    uploaded_file = list(upload_button.value.values())[0]\n",
    "    image_path_or_url = uploaded_file['name']\n",
    "    with open(image_path_or_url, 'wb') as f:\n",
    "        f.write(uploaded_file['content'])\n",
    "    display_image(image_path_or_url)\n",
    "\n",
    "# Bind the button click event to the handler\n",
    "submit_button.on_click(on_button_click)\n",
    "\n",
    "# Bind the image URL input change event to the handler\n",
    "image_input.observe(on_image_url_change, names='value')\n",
    "\n",
    "# Bind the file upload event to the handler\n",
    "upload_button.observe(on_file_upload, names='value')\n",
    "\n",
    "# Arrange the input widgets in a horizontal box layout for image input\n",
    "image_input_widgets = widgets.HBox([image_input, upload_button], layout=widgets.Layout(align_items='center', width='75%'))\n",
    "\n",
    "# Arrange all input widgets in a vertical box layout\n",
    "input_widgets = widgets.VBox([query_input, image_input_widgets, submit_button], layout=widgets.Layout(align_items='center'))\n",
    "\n",
    "# Display the input widgets and the output areas\n",
    "display(input_widgets)\n",
    "display(image_output_area)\n",
    "display(text_output_area)\n",
    "\n",
    "# Pre-render the image from the default URL\n",
    "display_image(image_input.value)"
   ]
  },
  {
   "cell_type": "code",
   "execution_count": null,
   "metadata": {},
   "outputs": [],
   "source": []
  }
 ],
 "metadata": {
  "kernelspec": {
   "display_name": "deploy",
   "language": "python",
   "name": "python3"
  },
  "language_info": {
   "codemirror_mode": {
    "name": "ipython",
    "version": 3
   },
   "file_extension": ".py",
   "mimetype": "text/x-python",
   "name": "python",
   "nbconvert_exporter": "python",
   "pygments_lexer": "ipython3",
   "version": "3.10.14"
  }
 },
 "nbformat": 4,
 "nbformat_minor": 2
}
