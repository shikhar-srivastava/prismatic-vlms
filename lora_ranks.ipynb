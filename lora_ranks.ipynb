{
 "cells": [
  {
   "cell_type": "code",
   "execution_count": 1,
   "metadata": {},
   "outputs": [
    {
     "name": "stderr",
     "output_type": "stream",
     "text": [
      "/localdisk/ssrivas9/miniconda3/envs/prism/lib/python3.9/site-packages/tqdm/auto.py:21: TqdmWarning: IProgress not found. Please update jupyter and ipywidgets. See https://ipywidgets.readthedocs.io/en/stable/user_install.html\n",
      "  from .autonotebook import tqdm as notebook_tqdm\n"
     ]
    }
   ],
   "source": [
    "import torch\n",
    "from torch import nn as nn\n",
    "from transformers import GPTNeoXForCausalLM\n",
    "\n",
    "PYTHIA_MODELS = {\n",
    "    \"pythia-160m\": {\n",
    "        \"llm_family\": \"pythia\", \"llm_cls\": GPTNeoXForCausalLM, \"hf_hub_path\": \"EleutherAI/pythia-160m-deduped\"\n",
    "    },\n",
    "    \"pythia-410m\": {\n",
    "        \"llm_family\": \"pythia\", \"llm_cls\": GPTNeoXForCausalLM, \"hf_hub_path\": \"EleutherAI/pythia-410m-deduped\"\n",
    "    },\n",
    "     \"pythia-1b\":{\n",
    "        \"llm_family\": \"pythia\", \"llm_cls\": GPTNeoXForCausalLM, \"hf_hub_path\": \"EleutherAI/pythia-1b-deduped\"\n",
    "    },\n",
    "    \"pythia-1p4b\":{\n",
    "        \"llm_family\": \"pythia\", \"llm_cls\": GPTNeoXForCausalLM, \"hf_hub_path\": \"EleutherAI/pythia-1.4b-deduped\"\n",
    "    },\n",
    "    \"pythia-2p8b\":{\n",
    "        \"llm_family\": \"pythia\", \"llm_cls\": GPTNeoXForCausalLM, \"hf_hub_path\": \"EleutherAI/pythia-2.8b-deduped\"\n",
    "    },\n",
    "}"
   ]
  },
  {
   "cell_type": "code",
   "execution_count": 2,
   "metadata": {},
   "outputs": [
    {
     "name": "stdout",
     "output_type": "stream",
     "text": [
      "Loading model: pythia-160m\n",
      "pythia-160m has d_model (input/output dimension size): 768\n",
      "Loading model: pythia-410m\n",
      "pythia-410m has d_model (input/output dimension size): 1024\n",
      "Loading model: pythia-1b\n",
      "pythia-1b has d_model (input/output dimension size): 2048\n",
      "Loading model: pythia-1p4b\n",
      "pythia-1p4b has d_model (input/output dimension size): 2048\n",
      "Loading model: pythia-2p8b\n",
      "pythia-2p8b has d_model (input/output dimension size): 2560\n"
     ]
    }
   ],
   "source": [
    "from transformers import AutoModelForCausalLM\n",
    "import torch\n",
    "\n",
    "# Iterate over each model in the PYTHIA_MODELS dictionary\n",
    "for model_name, model_info in PYTHIA_MODELS.items():\n",
    "    print(f\"Loading model: {model_name}\")\n",
    "    \n",
    "    # Load the model using the specified class and Hugging Face hub path\n",
    "    model_cls = model_info['llm_cls']\n",
    "    hf_hub_path = model_info['hf_hub_path']\n",
    "    \n",
    "    model = model_cls.from_pretrained(hf_hub_path)\n",
    "    \n",
    "    # Retrieve the full rank (d_model) from the model configuration\n",
    "    d_model = model.config.hidden_size\n",
    "    del model\n",
    "    \n",
    "    # Print the model name and the d_model value\n",
    "    print(f\"{model_name} has d_model (input/output dimension size): {d_model}\")\n"
   ]
  },
  {
   "cell_type": "code",
   "execution_count": 3,
   "metadata": {},
   "outputs": [
    {
     "data": {
      "text/plain": [
       "GPTNeoXForCausalLM(\n",
       "  (gpt_neox): GPTNeoXModel(\n",
       "    (embed_in): Embedding(50304, 2560)\n",
       "    (emb_dropout): Dropout(p=0.0, inplace=False)\n",
       "    (layers): ModuleList(\n",
       "      (0-31): 32 x GPTNeoXLayer(\n",
       "        (input_layernorm): LayerNorm((2560,), eps=1e-05, elementwise_affine=True)\n",
       "        (post_attention_layernorm): LayerNorm((2560,), eps=1e-05, elementwise_affine=True)\n",
       "        (post_attention_dropout): Dropout(p=0.0, inplace=False)\n",
       "        (post_mlp_dropout): Dropout(p=0.0, inplace=False)\n",
       "        (attention): GPTNeoXAttention(\n",
       "          (rotary_emb): GPTNeoXRotaryEmbedding()\n",
       "          (query_key_value): Linear(in_features=2560, out_features=7680, bias=True)\n",
       "          (dense): Linear(in_features=2560, out_features=2560, bias=True)\n",
       "          (attention_dropout): Dropout(p=0.0, inplace=False)\n",
       "        )\n",
       "        (mlp): GPTNeoXMLP(\n",
       "          (dense_h_to_4h): Linear(in_features=2560, out_features=10240, bias=True)\n",
       "          (dense_4h_to_h): Linear(in_features=10240, out_features=2560, bias=True)\n",
       "          (act): GELUActivation()\n",
       "        )\n",
       "      )\n",
       "    )\n",
       "    (final_layer_norm): LayerNorm((2560,), eps=1e-05, elementwise_affine=True)\n",
       "  )\n",
       "  (embed_out): Linear(in_features=2560, out_features=50304, bias=False)\n",
       ")"
      ]
     },
     "execution_count": 3,
     "metadata": {},
     "output_type": "execute_result"
    }
   ],
   "source": [
    "model = model_cls.from_pretrained(hf_hub_path)\n",
    "model"
   ]
  },
  {
   "cell_type": "code",
   "execution_count": null,
   "metadata": {},
   "outputs": [],
   "source": []
  }
 ],
 "metadata": {
  "kernelspec": {
   "display_name": "prism",
   "language": "python",
   "name": "python3"
  },
  "language_info": {
   "codemirror_mode": {
    "name": "ipython",
    "version": 3
   },
   "file_extension": ".py",
   "mimetype": "text/x-python",
   "name": "python",
   "nbconvert_exporter": "python",
   "pygments_lexer": "ipython3",
   "version": "3.9.19"
  }
 },
 "nbformat": 4,
 "nbformat_minor": 2
}
