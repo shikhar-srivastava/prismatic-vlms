{
 "cells": [
  {
   "cell_type": "code",
   "execution_count": 4,
   "metadata": {},
   "outputs": [],
   "source": [
    "import torch\n",
    "from torch import nn as nn\n",
    "from transformers import GPTNeoXForCausalLM\n",
    "\n",
    "PYTHIA_MODELS = {\n",
    "    \"pythia-160m\": {\n",
    "        \"llm_family\": \"pythia\", \"llm_cls\": GPTNeoXForCausalLM, \"hf_hub_path\": \"EleutherAI/pythia-160m-deduped\"\n",
    "    },\n",
    "    \"pythia-410m\": {\n",
    "        \"llm_family\": \"pythia\", \"llm_cls\": GPTNeoXForCausalLM, \"hf_hub_path\": \"EleutherAI/pythia-410m-deduped\"\n",
    "    },\n",
    "     \"pythia-1b\":{\n",
    "        \"llm_family\": \"pythia\", \"llm_cls\": GPTNeoXForCausalLM, \"hf_hub_path\": \"EleutherAI/pythia-1b-deduped\"\n",
    "    },\n",
    "    \"pythia-1p4b\":{\n",
    "        \"llm_family\": \"pythia\", \"llm_cls\": GPTNeoXForCausalLM, \"hf_hub_path\": \"EleutherAI/pythia-1.4b-deduped\"\n",
    "    },\n",
    "    \"pythia-2p8b\":{\n",
    "        \"llm_family\": \"pythia\", \"llm_cls\": GPTNeoXForCausalLM, \"hf_hub_path\": \"EleutherAI/pythia-2.8b-deduped\"\n",
    "    },\n",
    "}"
   ]
  },
  {
   "cell_type": "code",
   "execution_count": 5,
   "metadata": {},
   "outputs": [
    {
     "name": "stdout",
     "output_type": "stream",
     "text": [
      "Loading model: pythia-160m\n",
      "pythia-160m has d_model (input/output dimension size): 768\n",
      "Loading model: pythia-410m\n",
      "pythia-410m has d_model (input/output dimension size): 1024\n",
      "Loading model: pythia-1b\n",
      "pythia-1b has d_model (input/output dimension size): 2048\n",
      "Loading model: pythia-1p4b\n",
      "pythia-1p4b has d_model (input/output dimension size): 2048\n",
      "Loading model: pythia-2p8b\n",
      "pythia-2p8b has d_model (input/output dimension size): 2560\n"
     ]
    }
   ],
   "source": [
    "from transformers import AutoModelForCausalLM\n",
    "import torch\n",
    "\n",
    "# Iterate over each model in the PYTHIA_MODELS dictionary\n",
    "for model_name, model_info in PYTHIA_MODELS.items():\n",
    "    print(f\"Loading model: {model_name}\")\n",
    "    \n",
    "    # Load the model using the specified class and Hugging Face hub path\n",
    "    model_cls = model_info['llm_cls']\n",
    "    hf_hub_path = model_info['hf_hub_path']\n",
    "    \n",
    "    model = model_cls.from_pretrained(hf_hub_path)\n",
    "    \n",
    "    # Retrieve the full rank (d_model) from the model configuration\n",
    "    d_model = model.config.hidden_size\n",
    "    del model\n",
    "    \n",
    "    # Print the model name and the d_model value\n",
    "    print(f\"{model_name} has d_model (input/output dimension size): {d_model}\")\n"
   ]
  },
  {
   "cell_type": "code",
   "execution_count": 6,
   "metadata": {},
   "outputs": [
    {
     "data": {
      "text/plain": [
       "GPTNeoXConfig {\n",
       "  \"_name_or_path\": \"EleutherAI/pythia-2.8b-deduped\",\n",
       "  \"architectures\": [\n",
       "    \"GPTNeoXForCausalLM\"\n",
       "  ],\n",
       "  \"attention_bias\": true,\n",
       "  \"attention_dropout\": 0.0,\n",
       "  \"bos_token_id\": 0,\n",
       "  \"classifier_dropout\": 0.1,\n",
       "  \"eos_token_id\": 0,\n",
       "  \"hidden_act\": \"gelu\",\n",
       "  \"hidden_dropout\": 0.0,\n",
       "  \"hidden_size\": 2560,\n",
       "  \"initializer_range\": 0.02,\n",
       "  \"intermediate_size\": 10240,\n",
       "  \"layer_norm_eps\": 1e-05,\n",
       "  \"max_position_embeddings\": 2048,\n",
       "  \"model_type\": \"gpt_neox\",\n",
       "  \"num_attention_heads\": 32,\n",
       "  \"num_hidden_layers\": 32,\n",
       "  \"rope_scaling\": null,\n",
       "  \"rotary_emb_base\": 10000,\n",
       "  \"rotary_pct\": 0.25,\n",
       "  \"tie_word_embeddings\": false,\n",
       "  \"torch_dtype\": \"float16\",\n",
       "  \"transformers_version\": \"4.40.2\",\n",
       "  \"use_cache\": true,\n",
       "  \"use_parallel_residual\": true,\n",
       "  \"vocab_size\": 50304\n",
       "}"
      ]
     },
     "execution_count": 6,
     "metadata": {},
     "output_type": "execute_result"
    }
   ],
   "source": [
    "model = model_cls.from_pretrained(hf_hub_path)\n",
    "model.config"
   ]
  },
  {
   "cell_type": "code",
   "execution_count": null,
   "metadata": {},
   "outputs": [],
   "source": []
  }
 ],
 "metadata": {
  "kernelspec": {
   "display_name": "prism",
   "language": "python",
   "name": "python3"
  },
  "language_info": {
   "codemirror_mode": {
    "name": "ipython",
    "version": 3
   },
   "file_extension": ".py",
   "mimetype": "text/x-python",
   "name": "python",
   "nbconvert_exporter": "python",
   "pygments_lexer": "ipython3",
   "version": "3.9.19"
  }
 },
 "nbformat": 4,
 "nbformat_minor": 2
}
